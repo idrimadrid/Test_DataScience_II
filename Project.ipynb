{
 "cells": [
  {
   "cell_type": "code",
   "execution_count": 1,
   "metadata": {
    "ExecuteTime": {
     "end_time": "2021-08-10T16:20:29.087497Z",
     "start_time": "2021-08-10T16:20:25.130518Z"
    }
   },
   "outputs": [],
   "source": [
    "import pandas as pd\n",
    "import seaborn as sns\n",
    "import matplotlib.pyplot as plt\n",
    "from sklearn.preprocessing import LabelEncoder\n",
    "from sklearn.model_selection import train_test_split,learning_curve\n",
    "from sklearn.metrics import f1_score, confusion_matrix, classification_report\n",
    "from sklearn.ensemble import RandomForestClassifier\n",
    "from sklearn.feature_selection import chi2\n",
    "from sklearn.feature_selection import SelectFromModel"
   ]
  },
  {
   "cell_type": "code",
   "execution_count": 2,
   "metadata": {
    "ExecuteTime": {
     "end_time": "2021-08-10T16:20:30.110004Z",
     "start_time": "2021-08-10T16:20:30.025232Z"
    }
   },
   "outputs": [],
   "source": [
    "df = pd.read_csv(\"data.csv\")"
   ]
  },
  {
   "cell_type": "code",
   "execution_count": 3,
   "metadata": {
    "ExecuteTime": {
     "end_time": "2021-08-10T16:20:31.852496Z",
     "start_time": "2021-08-10T16:20:31.838533Z"
    }
   },
   "outputs": [],
   "source": [
    "df = df.drop(['Unnamed: 0',\"index\"], axis=1)"
   ]
  },
  {
   "cell_type": "markdown",
   "metadata": {},
   "source": [
    "## Stats"
   ]
  },
  {
   "cell_type": "code",
   "execution_count": 4,
   "metadata": {
    "ExecuteTime": {
     "end_time": "2021-08-10T16:20:32.999934Z",
     "start_time": "2021-08-10T16:20:32.956054Z"
    },
    "scrolled": false
   },
   "outputs": [
    {
     "data": {
      "text/html": [
       "<div>\n",
       "<style scoped>\n",
       "    .dataframe tbody tr th:only-of-type {\n",
       "        vertical-align: middle;\n",
       "    }\n",
       "\n",
       "    .dataframe tbody tr th {\n",
       "        vertical-align: top;\n",
       "    }\n",
       "\n",
       "    .dataframe thead th {\n",
       "        text-align: right;\n",
       "    }\n",
       "</style>\n",
       "<table border=\"1\" class=\"dataframe\">\n",
       "  <thead>\n",
       "    <tr style=\"text-align: right;\">\n",
       "      <th></th>\n",
       "      <th>date</th>\n",
       "      <th>cheveux</th>\n",
       "      <th>age</th>\n",
       "      <th>exp</th>\n",
       "      <th>salaire</th>\n",
       "      <th>sexe</th>\n",
       "      <th>diplome</th>\n",
       "      <th>specialite</th>\n",
       "      <th>note</th>\n",
       "      <th>dispo</th>\n",
       "      <th>embauche</th>\n",
       "    </tr>\n",
       "  </thead>\n",
       "  <tbody>\n",
       "    <tr>\n",
       "      <th>0</th>\n",
       "      <td>2012-06-02</td>\n",
       "      <td>roux</td>\n",
       "      <td>25.0</td>\n",
       "      <td>9.0</td>\n",
       "      <td>26803.0</td>\n",
       "      <td>F</td>\n",
       "      <td>licence</td>\n",
       "      <td>geologie</td>\n",
       "      <td>97.08</td>\n",
       "      <td>non</td>\n",
       "      <td>0</td>\n",
       "    </tr>\n",
       "    <tr>\n",
       "      <th>1</th>\n",
       "      <td>2011-04-21</td>\n",
       "      <td>blond</td>\n",
       "      <td>35.0</td>\n",
       "      <td>13.0</td>\n",
       "      <td>38166.0</td>\n",
       "      <td>M</td>\n",
       "      <td>licence</td>\n",
       "      <td>forage</td>\n",
       "      <td>63.86</td>\n",
       "      <td>non</td>\n",
       "      <td>0</td>\n",
       "    </tr>\n",
       "    <tr>\n",
       "      <th>2</th>\n",
       "      <td>2012-09-07</td>\n",
       "      <td>blond</td>\n",
       "      <td>29.0</td>\n",
       "      <td>13.0</td>\n",
       "      <td>35207.0</td>\n",
       "      <td>M</td>\n",
       "      <td>licence</td>\n",
       "      <td>geologie</td>\n",
       "      <td>78.50</td>\n",
       "      <td>non</td>\n",
       "      <td>0</td>\n",
       "    </tr>\n",
       "    <tr>\n",
       "      <th>3</th>\n",
       "      <td>2011-07-01</td>\n",
       "      <td>brun</td>\n",
       "      <td>NaN</td>\n",
       "      <td>12.0</td>\n",
       "      <td>32442.0</td>\n",
       "      <td>M</td>\n",
       "      <td>licence</td>\n",
       "      <td>geologie</td>\n",
       "      <td>45.09</td>\n",
       "      <td>non</td>\n",
       "      <td>0</td>\n",
       "    </tr>\n",
       "    <tr>\n",
       "      <th>4</th>\n",
       "      <td>2012-08-07</td>\n",
       "      <td>roux</td>\n",
       "      <td>35.0</td>\n",
       "      <td>6.0</td>\n",
       "      <td>28533.0</td>\n",
       "      <td>F</td>\n",
       "      <td>licence</td>\n",
       "      <td>detective</td>\n",
       "      <td>81.91</td>\n",
       "      <td>non</td>\n",
       "      <td>0</td>\n",
       "    </tr>\n",
       "    <tr>\n",
       "      <th>...</th>\n",
       "      <td>...</td>\n",
       "      <td>...</td>\n",
       "      <td>...</td>\n",
       "      <td>...</td>\n",
       "      <td>...</td>\n",
       "      <td>...</td>\n",
       "      <td>...</td>\n",
       "      <td>...</td>\n",
       "      <td>...</td>\n",
       "      <td>...</td>\n",
       "      <td>...</td>\n",
       "    </tr>\n",
       "    <tr>\n",
       "      <th>19995</th>\n",
       "      <td>2012-03-10</td>\n",
       "      <td>roux</td>\n",
       "      <td>47.0</td>\n",
       "      <td>9.0</td>\n",
       "      <td>35723.0</td>\n",
       "      <td>M</td>\n",
       "      <td>licence</td>\n",
       "      <td>geologie</td>\n",
       "      <td>66.47</td>\n",
       "      <td>non</td>\n",
       "      <td>0</td>\n",
       "    </tr>\n",
       "    <tr>\n",
       "      <th>19996</th>\n",
       "      <td>2010-09-19</td>\n",
       "      <td>chatain</td>\n",
       "      <td>38.0</td>\n",
       "      <td>10.0</td>\n",
       "      <td>33570.0</td>\n",
       "      <td>F</td>\n",
       "      <td>master</td>\n",
       "      <td>geologie</td>\n",
       "      <td>62.29</td>\n",
       "      <td>non</td>\n",
       "      <td>1</td>\n",
       "    </tr>\n",
       "    <tr>\n",
       "      <th>19997</th>\n",
       "      <td>2010-09-02</td>\n",
       "      <td>chatain</td>\n",
       "      <td>23.0</td>\n",
       "      <td>6.0</td>\n",
       "      <td>33751.0</td>\n",
       "      <td>F</td>\n",
       "      <td>doctorat</td>\n",
       "      <td>detective</td>\n",
       "      <td>103.48</td>\n",
       "      <td>oui</td>\n",
       "      <td>0</td>\n",
       "    </tr>\n",
       "    <tr>\n",
       "      <th>19998</th>\n",
       "      <td>2011-12-06</td>\n",
       "      <td>chatain</td>\n",
       "      <td>33.0</td>\n",
       "      <td>11.0</td>\n",
       "      <td>34167.0</td>\n",
       "      <td>F</td>\n",
       "      <td>licence</td>\n",
       "      <td>detective</td>\n",
       "      <td>73.35</td>\n",
       "      <td>non</td>\n",
       "      <td>0</td>\n",
       "    </tr>\n",
       "    <tr>\n",
       "      <th>19999</th>\n",
       "      <td>2010-11-29</td>\n",
       "      <td>brun</td>\n",
       "      <td>35.0</td>\n",
       "      <td>14.0</td>\n",
       "      <td>44499.0</td>\n",
       "      <td>M</td>\n",
       "      <td>bac</td>\n",
       "      <td>geologie</td>\n",
       "      <td>45.62</td>\n",
       "      <td>non</td>\n",
       "      <td>0</td>\n",
       "    </tr>\n",
       "  </tbody>\n",
       "</table>\n",
       "<p>20000 rows × 11 columns</p>\n",
       "</div>"
      ],
      "text/plain": [
       "             date  cheveux   age   exp  salaire sexe   diplome specialite  \\\n",
       "0      2012-06-02     roux  25.0   9.0  26803.0    F   licence   geologie   \n",
       "1      2011-04-21    blond  35.0  13.0  38166.0    M   licence     forage   \n",
       "2      2012-09-07    blond  29.0  13.0  35207.0    M   licence   geologie   \n",
       "3      2011-07-01     brun   NaN  12.0  32442.0    M   licence   geologie   \n",
       "4      2012-08-07     roux  35.0   6.0  28533.0    F   licence  detective   \n",
       "...           ...      ...   ...   ...      ...  ...       ...        ...   \n",
       "19995  2012-03-10     roux  47.0   9.0  35723.0    M   licence   geologie   \n",
       "19996  2010-09-19  chatain  38.0  10.0  33570.0    F    master   geologie   \n",
       "19997  2010-09-02  chatain  23.0   6.0  33751.0    F  doctorat  detective   \n",
       "19998  2011-12-06  chatain  33.0  11.0  34167.0    F   licence  detective   \n",
       "19999  2010-11-29     brun  35.0  14.0  44499.0    M       bac   geologie   \n",
       "\n",
       "         note dispo  embauche  \n",
       "0       97.08   non         0  \n",
       "1       63.86   non         0  \n",
       "2       78.50   non         0  \n",
       "3       45.09   non         0  \n",
       "4       81.91   non         0  \n",
       "...       ...   ...       ...  \n",
       "19995   66.47   non         0  \n",
       "19996   62.29   non         1  \n",
       "19997  103.48   oui         0  \n",
       "19998   73.35   non         0  \n",
       "19999   45.62   non         0  \n",
       "\n",
       "[20000 rows x 11 columns]"
      ]
     },
     "execution_count": 4,
     "metadata": {},
     "output_type": "execute_result"
    }
   ],
   "source": [
    "df"
   ]
  },
  {
   "cell_type": "code",
   "execution_count": 266,
   "metadata": {
    "ExecuteTime": {
     "end_time": "2021-08-02T00:48:19.729192Z",
     "start_time": "2021-08-02T00:48:19.647412Z"
    }
   },
   "outputs": [
    {
     "data": {
      "text/html": [
       "<div>\n",
       "<style scoped>\n",
       "    .dataframe tbody tr th:only-of-type {\n",
       "        vertical-align: middle;\n",
       "    }\n",
       "\n",
       "    .dataframe tbody tr th {\n",
       "        vertical-align: top;\n",
       "    }\n",
       "\n",
       "    .dataframe thead th {\n",
       "        text-align: right;\n",
       "    }\n",
       "</style>\n",
       "<table border=\"1\" class=\"dataframe\">\n",
       "  <thead>\n",
       "    <tr style=\"text-align: right;\">\n",
       "      <th></th>\n",
       "      <th>date</th>\n",
       "      <th>cheveux</th>\n",
       "      <th>sexe</th>\n",
       "      <th>diplome</th>\n",
       "      <th>specialite</th>\n",
       "      <th>dispo</th>\n",
       "    </tr>\n",
       "  </thead>\n",
       "  <tbody>\n",
       "    <tr>\n",
       "      <th>count</th>\n",
       "      <td>19909</td>\n",
       "      <td>19897</td>\n",
       "      <td>19900</td>\n",
       "      <td>19890</td>\n",
       "      <td>19907</td>\n",
       "      <td>19894</td>\n",
       "    </tr>\n",
       "    <tr>\n",
       "      <th>unique</th>\n",
       "      <td>1826</td>\n",
       "      <td>4</td>\n",
       "      <td>2</td>\n",
       "      <td>4</td>\n",
       "      <td>4</td>\n",
       "      <td>2</td>\n",
       "    </tr>\n",
       "    <tr>\n",
       "      <th>top</th>\n",
       "      <td>2012-02-03</td>\n",
       "      <td>chatain</td>\n",
       "      <td>M</td>\n",
       "      <td>master</td>\n",
       "      <td>geologie</td>\n",
       "      <td>non</td>\n",
       "    </tr>\n",
       "    <tr>\n",
       "      <th>freq</th>\n",
       "      <td>24</td>\n",
       "      <td>6022</td>\n",
       "      <td>11889</td>\n",
       "      <td>7513</td>\n",
       "      <td>10028</td>\n",
       "      <td>11848</td>\n",
       "    </tr>\n",
       "  </tbody>\n",
       "</table>\n",
       "</div>"
      ],
      "text/plain": [
       "              date  cheveux   sexe diplome specialite  dispo\n",
       "count        19909    19897  19900   19890      19907  19894\n",
       "unique        1826        4      2       4          4      2\n",
       "top     2012-02-03  chatain      M  master   geologie    non\n",
       "freq            24     6022  11889    7513      10028  11848"
      ]
     },
     "execution_count": 266,
     "metadata": {},
     "output_type": "execute_result"
    }
   ],
   "source": [
    "df.describe(include=object)"
   ]
  },
  {
   "cell_type": "code",
   "execution_count": 267,
   "metadata": {
    "ExecuteTime": {
     "end_time": "2021-08-02T00:48:20.947963Z",
     "start_time": "2021-08-02T00:48:20.913057Z"
    }
   },
   "outputs": [
    {
     "data": {
      "text/html": [
       "<div>\n",
       "<style scoped>\n",
       "    .dataframe tbody tr th:only-of-type {\n",
       "        vertical-align: middle;\n",
       "    }\n",
       "\n",
       "    .dataframe tbody tr th {\n",
       "        vertical-align: top;\n",
       "    }\n",
       "\n",
       "    .dataframe thead th {\n",
       "        text-align: right;\n",
       "    }\n",
       "</style>\n",
       "<table border=\"1\" class=\"dataframe\">\n",
       "  <thead>\n",
       "    <tr style=\"text-align: right;\">\n",
       "      <th></th>\n",
       "      <th>age</th>\n",
       "      <th>exp</th>\n",
       "      <th>salaire</th>\n",
       "      <th>note</th>\n",
       "      <th>embauche</th>\n",
       "    </tr>\n",
       "  </thead>\n",
       "  <tbody>\n",
       "    <tr>\n",
       "      <th>count</th>\n",
       "      <td>19909.000000</td>\n",
       "      <td>19904.000000</td>\n",
       "      <td>19905.000000</td>\n",
       "      <td>19886.000000</td>\n",
       "      <td>20000.000000</td>\n",
       "    </tr>\n",
       "    <tr>\n",
       "      <th>mean</th>\n",
       "      <td>35.004521</td>\n",
       "      <td>9.500352</td>\n",
       "      <td>34974.343934</td>\n",
       "      <td>75.168762</td>\n",
       "      <td>0.114600</td>\n",
       "    </tr>\n",
       "    <tr>\n",
       "      <th>std</th>\n",
       "      <td>9.609169</td>\n",
       "      <td>3.012109</td>\n",
       "      <td>5003.099616</td>\n",
       "      <td>17.095926</td>\n",
       "      <td>0.318547</td>\n",
       "    </tr>\n",
       "    <tr>\n",
       "      <th>min</th>\n",
       "      <td>-3.000000</td>\n",
       "      <td>-2.000000</td>\n",
       "      <td>14128.000000</td>\n",
       "      <td>8.680000</td>\n",
       "      <td>0.000000</td>\n",
       "    </tr>\n",
       "    <tr>\n",
       "      <th>25%</th>\n",
       "      <td>29.000000</td>\n",
       "      <td>7.000000</td>\n",
       "      <td>31596.000000</td>\n",
       "      <td>63.720000</td>\n",
       "      <td>0.000000</td>\n",
       "    </tr>\n",
       "    <tr>\n",
       "      <th>50%</th>\n",
       "      <td>35.000000</td>\n",
       "      <td>9.000000</td>\n",
       "      <td>34979.000000</td>\n",
       "      <td>75.080000</td>\n",
       "      <td>0.000000</td>\n",
       "    </tr>\n",
       "    <tr>\n",
       "      <th>75%</th>\n",
       "      <td>41.000000</td>\n",
       "      <td>12.000000</td>\n",
       "      <td>38358.000000</td>\n",
       "      <td>86.617500</td>\n",
       "      <td>0.000000</td>\n",
       "    </tr>\n",
       "    <tr>\n",
       "      <th>max</th>\n",
       "      <td>74.000000</td>\n",
       "      <td>23.000000</td>\n",
       "      <td>53977.000000</td>\n",
       "      <td>143.220000</td>\n",
       "      <td>1.000000</td>\n",
       "    </tr>\n",
       "  </tbody>\n",
       "</table>\n",
       "</div>"
      ],
      "text/plain": [
       "                age           exp       salaire          note      embauche\n",
       "count  19909.000000  19904.000000  19905.000000  19886.000000  20000.000000\n",
       "mean      35.004521      9.500352  34974.343934     75.168762      0.114600\n",
       "std        9.609169      3.012109   5003.099616     17.095926      0.318547\n",
       "min       -3.000000     -2.000000  14128.000000      8.680000      0.000000\n",
       "25%       29.000000      7.000000  31596.000000     63.720000      0.000000\n",
       "50%       35.000000      9.000000  34979.000000     75.080000      0.000000\n",
       "75%       41.000000     12.000000  38358.000000     86.617500      0.000000\n",
       "max       74.000000     23.000000  53977.000000    143.220000      1.000000"
      ]
     },
     "execution_count": 267,
     "metadata": {},
     "output_type": "execute_result"
    }
   ],
   "source": [
    "df.describe()"
   ]
  },
  {
   "cell_type": "code",
   "execution_count": 268,
   "metadata": {
    "ExecuteTime": {
     "end_time": "2021-08-02T00:48:22.286021Z",
     "start_time": "2021-08-02T00:48:22.240146Z"
    }
   },
   "outputs": [
    {
     "name": "stdout",
     "output_type": "stream",
     "text": [
      "Nans Percentage :\n",
      "\n",
      "date : 91 ==> 0.46 %\n",
      "cheveux : 103 ==> 0.52 %\n",
      "age : 91 ==> 0.46 %\n",
      "exp : 96 ==> 0.48 %\n",
      "salaire : 95 ==> 0.47 %\n",
      "sexe : 100 ==> 0.50 %\n",
      "diplome : 110 ==> 0.55 %\n",
      "specialite : 93 ==> 0.47 %\n",
      "note : 114 ==> 0.57 %\n",
      "dispo : 106 ==> 0.53 %\n"
     ]
    }
   ],
   "source": [
    "print('Nans Percentage :\\n')\n",
    "for col in list(df):\n",
    "    nbr = df[col].isna().sum()\n",
    "    if nbr != 0:\n",
    "        print(\"{} : {} ==> {:.2f} %\".format(col,df[col].isna().sum(),100.0*df[col].isna().sum()/df[col].shape[0]))"
   ]
  },
  {
   "cell_type": "code",
   "execution_count": 269,
   "metadata": {
    "ExecuteTime": {
     "end_time": "2021-08-02T00:48:23.627512Z",
     "start_time": "2021-08-02T00:48:23.599588Z"
    },
    "scrolled": false
   },
   "outputs": [
    {
     "name": "stdout",
     "output_type": "stream",
     "text": [
      "Values : \n",
      "\n",
      "date: ['2012-06-02' '2011-04-21' '2012-09-07' ... '2011-03-04' '2014-08-26'\n",
      " '2011-07-11']\n",
      "\n",
      "cheveux: ['roux' 'blond' 'brun' 'chatain' nan]\n",
      "\n",
      "age: [25. 35. 29. nan 37. 33. 31. 43. 28. 50. 44. 39. 23. 38. 30. 42. 27. 19.\n",
      " 40. 49. 26. 59. 41. 34. 24. 16. 36. 48. 47. 53. 20. 22. 54. 46. 45. 61.\n",
      " 21. 56. 14. 32. 55. 52. 65. 10. 51. 17. 12. 13.  8. 15. 57. 62. 18. 58.\n",
      "  5. 67. 63.  6.  9. 11.  3. -1. 69. 64.  4. 60.  2.  7. -3. 72. 66. 71.\n",
      "  0. 74.  1. 68. -2.]\n",
      "\n",
      "exp: [ 9. 13. 12.  6.  8. 10. 11.  4. 14.  3.  7. 15.  5. 16.  2. 17.  0. nan\n",
      "  1. 21. 18. 19. 20. -1. 23. -2.]\n",
      "\n",
      "salaire: [26803. 38166. 35207. ... 39591. 41107. 44499.]\n",
      "\n",
      "sexe: ['F' 'M' nan]\n",
      "\n",
      "diplome: ['licence' 'master' 'doctorat' 'bac' nan]\n",
      "\n",
      "specialite: ['geologie' 'forage' 'detective' 'archeologie' nan]\n",
      "\n",
      "note: [ 97.08  63.86  78.5  ...  23.51 103.48  45.62]\n",
      "\n",
      "dispo: ['non' 'oui' nan]\n",
      "\n",
      "embauche: [0 1]\n",
      "\n"
     ]
    }
   ],
   "source": [
    "print('Values : \\n')\n",
    "for i in list(df):\n",
    "    print(i + ': ' + str(df[i].unique()), end=\"\\n\\n\")"
   ]
  },
  {
   "cell_type": "markdown",
   "metadata": {},
   "source": [
    "## Preprocess "
   ]
  },
  {
   "cell_type": "code",
   "execution_count": 5,
   "metadata": {
    "ExecuteTime": {
     "end_time": "2021-08-10T16:20:41.424950Z",
     "start_time": "2021-08-10T16:20:41.380070Z"
    }
   },
   "outputs": [],
   "source": [
    "df.dropna(inplace=True)"
   ]
  },
  {
   "cell_type": "code",
   "execution_count": 6,
   "metadata": {
    "ExecuteTime": {
     "end_time": "2021-08-10T16:20:44.062097Z",
     "start_time": "2021-08-10T16:20:44.037165Z"
    }
   },
   "outputs": [],
   "source": [
    "df.date = pd.to_datetime(df.date)"
   ]
  },
  {
   "cell_type": "code",
   "execution_count": 300,
   "metadata": {
    "ExecuteTime": {
     "end_time": "2021-08-02T08:15:07.364987Z",
     "start_time": "2021-08-02T08:15:07.355013Z"
    }
   },
   "outputs": [],
   "source": [
    "df.loc[df.age<18,'age'] = df.age.mean()\n",
    "\n",
    "df.loc[df.exp<0,'exp'] = df.exp.mean()"
   ]
  },
  {
   "cell_type": "markdown",
   "metadata": {},
   "source": [
    "## Analysis "
   ]
  },
  {
   "cell_type": "code",
   "execution_count": 273,
   "metadata": {
    "ExecuteTime": {
     "end_time": "2021-08-02T00:48:35.166317Z",
     "start_time": "2021-08-02T00:48:34.304591Z"
    }
   },
   "outputs": [
    {
     "data": {
      "image/png": "[encoded data removed]",
      "text/plain": [
       "<Figure size 1440x720 with 4 Axes>"
      ]
     },
     "metadata": {
      "needs_background": "light"
     },
     "output_type": "display_data"
    }
   ],
   "source": [
    "plt.figure(figsize=(20,10))\n",
    "for i, col in enumerate(['age','exp','salaire','note']):\n",
    "    plt.subplot(2,2,i+1)\n",
    "    plt.title(f\"{col} Distribution\")\n",
    "    df[col].hist(bins=20)"
   ]
  },
  {
   "cell_type": "code",
   "execution_count": 274,
   "metadata": {
    "ExecuteTime": {
     "end_time": "2021-08-02T00:48:37.063833Z",
     "start_time": "2021-08-02T00:48:36.946145Z"
    }
   },
   "outputs": [
    {
     "data": {
      "text/plain": [
       "<AxesSubplot:ylabel='embauche'>"
      ]
     },
     "execution_count": 274,
     "metadata": {},
     "output_type": "execute_result"
    },
    {
     "data": {
      "image/png": "[encoded data removed]",
      "text/plain": [
       "<Figure size 432x288 with 1 Axes>"
      ]
     },
     "metadata": {},
     "output_type": "display_data"
    }
   ],
   "source": [
    "df.embauche.value_counts().plot.pie()"
   ]
  },
  {
   "cell_type": "markdown",
   "metadata": {},
   "source": [
    "<b> On remarque qu'on a une dataset déséquilibré."
   ]
  },
  {
   "cell_type": "code",
   "execution_count": 275,
   "metadata": {
    "ExecuteTime": {
     "end_time": "2021-08-02T00:48:40.239356Z",
     "start_time": "2021-08-02T00:48:40.014990Z"
    }
   },
   "outputs": [
    {
     "data": {
      "text/plain": [
       "<AxesSubplot:>"
      ]
     },
     "execution_count": 275,
     "metadata": {},
     "output_type": "execute_result"
    },
    {
     "data": {
      "image/png": "[encoded data removed]",
      "text/plain": [
       "<Figure size 432x288 with 1 Axes>"
      ]
     },
     "metadata": {
      "needs_background": "light"
     },
     "output_type": "display_data"
    }
   ],
   "source": [
    "df[df.embauche==0].date.dt.month.hist()\n",
    "df[df.embauche==1].date.dt.month.hist()"
   ]
  },
  {
   "cell_type": "markdown",
   "metadata": {},
   "source": [
    "<b> Pour le champs Date on remque une augmentation dans le nombre de recrutement dans la période de début et fin d'année"
   ]
  },
  {
   "cell_type": "code",
   "execution_count": 276,
   "metadata": {
    "ExecuteTime": {
     "end_time": "2021-08-02T00:48:45.235834Z",
     "start_time": "2021-08-02T00:48:44.352195Z"
    }
   },
   "outputs": [
    {
     "data": {
      "text/plain": [
       "<AxesSubplot:title={'center':'Nbr Non Embauché mois'}>"
      ]
     },
     "execution_count": 276,
     "metadata": {},
     "output_type": "execute_result"
    },
    {
     "data": {
      "image/png": "[encoded data removed]",
      "text/plain": [
       "<Figure size 1440x720 with 4 Axes>"
      ]
     },
     "metadata": {
      "needs_background": "light"
     },
     "output_type": "display_data"
    }
   ],
   "source": [
    "date_1 = df[df.embauche==1].date.dt.month_name().value_counts()\n",
    "date_0 = df[df.embauche==0].date.dt.month_name().value_counts()\n",
    "date_0_y = df[df.embauche==0].date.dt.to_period('M').value_counts()\n",
    "date_1_y = df[df.embauche==1].date.dt.to_period('M').value_counts()\n",
    "\n",
    "date_1_y = date_1_y.sort_index()\n",
    "date_0_y = date_0_y.sort_index()\n",
    "date_1 = date_1.sort_index()\n",
    "date_0 = date_0.sort_index()\n",
    "\n",
    "plt.figure(figsize=(20,10))\n",
    "plt.subplot(2,2,1)\n",
    "\n",
    "plt.title(\"Nbr Embauché Année\")\n",
    "date_1_y.plot()\n",
    "plt.subplot(2,2,2)\n",
    "plt.title(\"Nbr Non Embauché Année\")\n",
    "date_0_y.plot()\n",
    "plt.subplot(2,2,3)\n",
    "plt.title(\"Nbr Embauché mois\")\n",
    "date_1.plot()\n",
    "plt.subplot(2,2,4)\n",
    "plt.title(\"Nbr Non Embauché mois\")\n",
    "date_0.plot()\n"
   ]
  },
  {
   "cell_type": "markdown",
   "metadata": {},
   "source": [
    "<b>Pour le champs Date j'ai pensé à prendre que le mois car on remarque une saisonalité sur le nombre de recrutement"
   ]
  },
  {
   "cell_type": "code",
   "execution_count": 449,
   "metadata": {
    "ExecuteTime": {
     "end_time": "2021-08-01T19:29:01.202910Z",
     "start_time": "2021-08-01T19:29:00.533242Z"
    },
    "scrolled": false
   },
   "outputs": [
    {
     "data": {
      "text/plain": [
       "<AxesSubplot:>"
      ]
     },
     "execution_count": 449,
     "metadata": {},
     "output_type": "execute_result"
    },
    {
     "data": {
      "image/png": "[encoded data removed]",
      "text/plain": [
       "<Figure size 1440x720 with 4 Axes>"
      ]
     },
     "metadata": {
      "needs_background": "light"
     },
     "output_type": "display_data"
    }
   ],
   "source": [
    "plt.figure(figsize=(20,10))\n",
    "plt.subplot(2,2,1)\n",
    "df[\"age\"].plot.box()\n",
    "plt.subplot(2,2,2)\n",
    "df[\"note\"].plot.box()\n",
    "plt.subplot(2,2,3)\n",
    "df[\"exp\"].plot.box()\n",
    "plt.subplot(2,2,4)\n",
    "df[\"age\"].plot.box()"
   ]
  },
  {
   "cell_type": "markdown",
   "metadata": {},
   "source": [
    "<b>on remarque des outliers qu'on doit corriger"
   ]
  },
  {
   "cell_type": "code",
   "execution_count": 301,
   "metadata": {
    "ExecuteTime": {
     "end_time": "2021-08-02T08:15:15.415057Z",
     "start_time": "2021-08-02T08:15:15.409073Z"
    }
   },
   "outputs": [],
   "source": [
    "temp = df.copy()"
   ]
  },
  {
   "cell_type": "code",
   "execution_count": 302,
   "metadata": {
    "ExecuteTime": {
     "end_time": "2021-08-02T08:15:16.709597Z",
     "start_time": "2021-08-02T08:15:16.667711Z"
    }
   },
   "outputs": [],
   "source": [
    "labelencoder = LabelEncoder()\n",
    "temp.sexe = labelencoder.fit_transform(df.sexe)\n",
    "temp.dispo = labelencoder.fit_transform(df.dispo)\n",
    "temp.cheveux = labelencoder.fit_transform(df.cheveux)\n",
    "temp.diplome = labelencoder.fit_transform(df.diplome)\n",
    "temp.specialite = labelencoder.fit_transform(df.specialite)"
   ]
  },
  {
   "cell_type": "code",
   "execution_count": 303,
   "metadata": {
    "ExecuteTime": {
     "end_time": "2021-08-02T08:15:20.139613Z",
     "start_time": "2021-08-02T08:15:20.080770Z"
    }
   },
   "outputs": [
    {
     "data": {
      "text/html": [
       "<style  type=\"text/css\" >\n",
       "#T_c707fa50_f369_11eb_a145_244bfe883d24row0_col0,#T_c707fa50_f369_11eb_a145_244bfe883d24row1_col1,#T_c707fa50_f369_11eb_a145_244bfe883d24row2_col2,#T_c707fa50_f369_11eb_a145_244bfe883d24row3_col3,#T_c707fa50_f369_11eb_a145_244bfe883d24row4_col4,#T_c707fa50_f369_11eb_a145_244bfe883d24row5_col5,#T_c707fa50_f369_11eb_a145_244bfe883d24row6_col6,#T_c707fa50_f369_11eb_a145_244bfe883d24row7_col7,#T_c707fa50_f369_11eb_a145_244bfe883d24row8_col8{\n",
       "            background-color:  #b40426;\n",
       "            color:  #f1f1f1;\n",
       "        }#T_c707fa50_f369_11eb_a145_244bfe883d24row0_col1,#T_c707fa50_f369_11eb_a145_244bfe883d24row4_col2{\n",
       "            background-color:  #3e51c5;\n",
       "            color:  #f1f1f1;\n",
       "        }#T_c707fa50_f369_11eb_a145_244bfe883d24row0_col2{\n",
       "            background-color:  #3f53c6;\n",
       "            color:  #f1f1f1;\n",
       "        }#T_c707fa50_f369_11eb_a145_244bfe883d24row0_col3,#T_c707fa50_f369_11eb_a145_244bfe883d24row4_col8{\n",
       "            background-color:  #a7c5fe;\n",
       "            color:  #000000;\n",
       "        }#T_c707fa50_f369_11eb_a145_244bfe883d24row0_col4{\n",
       "            background-color:  #6384eb;\n",
       "            color:  #000000;\n",
       "        }#T_c707fa50_f369_11eb_a145_244bfe883d24row0_col5{\n",
       "            background-color:  #4e68d8;\n",
       "            color:  #000000;\n",
       "        }#T_c707fa50_f369_11eb_a145_244bfe883d24row0_col6,#T_c707fa50_f369_11eb_a145_244bfe883d24row5_col6{\n",
       "            background-color:  #8caffe;\n",
       "            color:  #000000;\n",
       "        }#T_c707fa50_f369_11eb_a145_244bfe883d24row0_col7,#T_c707fa50_f369_11eb_a145_244bfe883d24row2_col3{\n",
       "            background-color:  #a5c3fe;\n",
       "            color:  #000000;\n",
       "        }#T_c707fa50_f369_11eb_a145_244bfe883d24row0_col8{\n",
       "            background-color:  #9ebeff;\n",
       "            color:  #000000;\n",
       "        }#T_c707fa50_f369_11eb_a145_244bfe883d24row1_col0,#T_c707fa50_f369_11eb_a145_244bfe883d24row6_col5{\n",
       "            background-color:  #5875e1;\n",
       "            color:  #000000;\n",
       "        }#T_c707fa50_f369_11eb_a145_244bfe883d24row1_col2,#T_c707fa50_f369_11eb_a145_244bfe883d24row4_col1,#T_c707fa50_f369_11eb_a145_244bfe883d24row6_col2,#T_c707fa50_f369_11eb_a145_244bfe883d24row7_col1,#T_c707fa50_f369_11eb_a145_244bfe883d24row8_col2{\n",
       "            background-color:  #3c4ec2;\n",
       "            color:  #f1f1f1;\n",
       "        }#T_c707fa50_f369_11eb_a145_244bfe883d24row1_col3,#T_c707fa50_f369_11eb_a145_244bfe883d24row3_col4{\n",
       "            background-color:  #a2c1ff;\n",
       "            color:  #000000;\n",
       "        }#T_c707fa50_f369_11eb_a145_244bfe883d24row1_col4,#T_c707fa50_f369_11eb_a145_244bfe883d24row5_col3{\n",
       "            background-color:  #7ea1fa;\n",
       "            color:  #000000;\n",
       "        }#T_c707fa50_f369_11eb_a145_244bfe883d24row1_col5,#T_c707fa50_f369_11eb_a145_244bfe883d24row2_col5,#T_c707fa50_f369_11eb_a145_244bfe883d24row4_col7{\n",
       "            background-color:  #6282ea;\n",
       "            color:  #000000;\n",
       "        }#T_c707fa50_f369_11eb_a145_244bfe883d24row1_col6{\n",
       "            background-color:  #9abbff;\n",
       "            color:  #000000;\n",
       "        }#T_c707fa50_f369_11eb_a145_244bfe883d24row1_col7,#T_c707fa50_f369_11eb_a145_244bfe883d24row7_col5{\n",
       "            background-color:  #a1c0ff;\n",
       "            color:  #000000;\n",
       "        }#T_c707fa50_f369_11eb_a145_244bfe883d24row1_col8,#T_c707fa50_f369_11eb_a145_244bfe883d24row2_col8{\n",
       "            background-color:  #94b6ff;\n",
       "            color:  #000000;\n",
       "        }#T_c707fa50_f369_11eb_a145_244bfe883d24row2_col0{\n",
       "            background-color:  #5977e3;\n",
       "            color:  #000000;\n",
       "        }#T_c707fa50_f369_11eb_a145_244bfe883d24row2_col1,#T_c707fa50_f369_11eb_a145_244bfe883d24row3_col5,#T_c707fa50_f369_11eb_a145_244bfe883d24row3_col7,#T_c707fa50_f369_11eb_a145_244bfe883d24row4_col0,#T_c707fa50_f369_11eb_a145_244bfe883d24row6_col8,#T_c707fa50_f369_11eb_a145_244bfe883d24row7_col2,#T_c707fa50_f369_11eb_a145_244bfe883d24row7_col3,#T_c707fa50_f369_11eb_a145_244bfe883d24row7_col4,#T_c707fa50_f369_11eb_a145_244bfe883d24row8_col1,#T_c707fa50_f369_11eb_a145_244bfe883d24row8_col6{\n",
       "            background-color:  #3b4cc0;\n",
       "            color:  #f1f1f1;\n",
       "        }#T_c707fa50_f369_11eb_a145_244bfe883d24row2_col4{\n",
       "            background-color:  #80a3fa;\n",
       "            color:  #000000;\n",
       "        }#T_c707fa50_f369_11eb_a145_244bfe883d24row2_col6{\n",
       "            background-color:  #96b7ff;\n",
       "            color:  #000000;\n",
       "        }#T_c707fa50_f369_11eb_a145_244bfe883d24row2_col7{\n",
       "            background-color:  #9fbfff;\n",
       "            color:  #000000;\n",
       "        }#T_c707fa50_f369_11eb_a145_244bfe883d24row3_col0{\n",
       "            background-color:  #5d7ce6;\n",
       "            color:  #000000;\n",
       "        }#T_c707fa50_f369_11eb_a145_244bfe883d24row3_col1,#T_c707fa50_f369_11eb_a145_244bfe883d24row5_col1,#T_c707fa50_f369_11eb_a145_244bfe883d24row5_col2{\n",
       "            background-color:  #3d50c3;\n",
       "            color:  #f1f1f1;\n",
       "        }#T_c707fa50_f369_11eb_a145_244bfe883d24row3_col2,#T_c707fa50_f369_11eb_a145_244bfe883d24row5_col0,#T_c707fa50_f369_11eb_a145_244bfe883d24row6_col1{\n",
       "            background-color:  #4055c8;\n",
       "            color:  #f1f1f1;\n",
       "        }#T_c707fa50_f369_11eb_a145_244bfe883d24row3_col6{\n",
       "            background-color:  #7699f6;\n",
       "            color:  #000000;\n",
       "        }#T_c707fa50_f369_11eb_a145_244bfe883d24row3_col8{\n",
       "            background-color:  #c1d4f4;\n",
       "            color:  #000000;\n",
       "        }#T_c707fa50_f369_11eb_a145_244bfe883d24row4_col3{\n",
       "            background-color:  #c0d4f5;\n",
       "            color:  #000000;\n",
       "        }#T_c707fa50_f369_11eb_a145_244bfe883d24row4_col5{\n",
       "            background-color:  #5e7de7;\n",
       "            color:  #000000;\n",
       "        }#T_c707fa50_f369_11eb_a145_244bfe883d24row4_col6{\n",
       "            background-color:  #e7d7ce;\n",
       "            color:  #000000;\n",
       "        }#T_c707fa50_f369_11eb_a145_244bfe883d24row5_col4{\n",
       "            background-color:  #7a9df8;\n",
       "            color:  #000000;\n",
       "        }#T_c707fa50_f369_11eb_a145_244bfe883d24row5_col7{\n",
       "            background-color:  #cfdaea;\n",
       "            color:  #000000;\n",
       "        }#T_c707fa50_f369_11eb_a145_244bfe883d24row5_col8{\n",
       "            background-color:  #bcd2f7;\n",
       "            color:  #000000;\n",
       "        }#T_c707fa50_f369_11eb_a145_244bfe883d24row6_col0{\n",
       "            background-color:  #4a63d3;\n",
       "            color:  #f1f1f1;\n",
       "        }#T_c707fa50_f369_11eb_a145_244bfe883d24row6_col3{\n",
       "            background-color:  #82a6fb;\n",
       "            color:  #000000;\n",
       "        }#T_c707fa50_f369_11eb_a145_244bfe883d24row6_col4{\n",
       "            background-color:  #dddcdc;\n",
       "            color:  #000000;\n",
       "        }#T_c707fa50_f369_11eb_a145_244bfe883d24row6_col7{\n",
       "            background-color:  #779af7;\n",
       "            color:  #000000;\n",
       "        }#T_c707fa50_f369_11eb_a145_244bfe883d24row7_col0{\n",
       "            background-color:  #5a78e4;\n",
       "            color:  #000000;\n",
       "        }#T_c707fa50_f369_11eb_a145_244bfe883d24row7_col6{\n",
       "            background-color:  #6a8bef;\n",
       "            color:  #000000;\n",
       "        }#T_c707fa50_f369_11eb_a145_244bfe883d24row7_col8{\n",
       "            background-color:  #e3d9d3;\n",
       "            color:  #000000;\n",
       "        }#T_c707fa50_f369_11eb_a145_244bfe883d24row8_col0{\n",
       "            background-color:  #5f7fe8;\n",
       "            color:  #000000;\n",
       "        }#T_c707fa50_f369_11eb_a145_244bfe883d24row8_col3{\n",
       "            background-color:  #cad8ef;\n",
       "            color:  #000000;\n",
       "        }#T_c707fa50_f369_11eb_a145_244bfe883d24row8_col4,#T_c707fa50_f369_11eb_a145_244bfe883d24row8_col5{\n",
       "            background-color:  #92b4fe;\n",
       "            color:  #000000;\n",
       "        }#T_c707fa50_f369_11eb_a145_244bfe883d24row8_col7{\n",
       "            background-color:  #e8d6cc;\n",
       "            color:  #000000;\n",
       "        }</style><table id=\"T_c707fa50_f369_11eb_a145_244bfe883d24\" ><thead>    <tr>        <th class=\"blank level0\" ></th>        <th class=\"col_heading level0 col0\" >cheveux</th>        <th class=\"col_heading level0 col1\" >age</th>        <th class=\"col_heading level0 col2\" >exp</th>        <th class=\"col_heading level0 col3\" >salaire</th>        <th class=\"col_heading level0 col4\" >sexe</th>        <th class=\"col_heading level0 col5\" >diplome</th>        <th class=\"col_heading level0 col6\" >specialite</th>        <th class=\"col_heading level0 col7\" >note</th>        <th class=\"col_heading level0 col8\" >dispo</th>    </tr></thead><tbody>\n",
       "                <tr>\n",
       "                        <th id=\"T_c707fa50_f369_11eb_a145_244bfe883d24level0_row0\" class=\"row_heading level0 row0\" >cheveux</th>\n",
       "                        <td id=\"T_c707fa50_f369_11eb_a145_244bfe883d24row0_col0\" class=\"data row0 col0\" >1.00</td>\n",
       "                        <td id=\"T_c707fa50_f369_11eb_a145_244bfe883d24row0_col1\" class=\"data row0 col1\" >0.01</td>\n",
       "                        <td id=\"T_c707fa50_f369_11eb_a145_244bfe883d24row0_col2\" class=\"data row0 col2\" >0.01</td>\n",
       "                        <td id=\"T_c707fa50_f369_11eb_a145_244bfe883d24row0_col3\" class=\"data row0 col3\" >0.02</td>\n",
       "                        <td id=\"T_c707fa50_f369_11eb_a145_244bfe883d24row0_col4\" class=\"data row0 col4\" >-0.10</td>\n",
       "                        <td id=\"T_c707fa50_f369_11eb_a145_244bfe883d24row0_col5\" class=\"data row0 col5\" >-0.07</td>\n",
       "                        <td id=\"T_c707fa50_f369_11eb_a145_244bfe883d24row0_col6\" class=\"data row0 col6\" >-0.04</td>\n",
       "                        <td id=\"T_c707fa50_f369_11eb_a145_244bfe883d24row0_col7\" class=\"data row0 col7\" >0.01</td>\n",
       "                        <td id=\"T_c707fa50_f369_11eb_a145_244bfe883d24row0_col8\" class=\"data row0 col8\" >0.03</td>\n",
       "            </tr>\n",
       "            <tr>\n",
       "                        <th id=\"T_c707fa50_f369_11eb_a145_244bfe883d24level0_row1\" class=\"row_heading level0 row1\" >age</th>\n",
       "                        <td id=\"T_c707fa50_f369_11eb_a145_244bfe883d24row1_col0\" class=\"data row1 col0\" >0.01</td>\n",
       "                        <td id=\"T_c707fa50_f369_11eb_a145_244bfe883d24row1_col1\" class=\"data row1 col1\" >1.00</td>\n",
       "                        <td id=\"T_c707fa50_f369_11eb_a145_244bfe883d24row1_col2\" class=\"data row1 col2\" >-0.01</td>\n",
       "                        <td id=\"T_c707fa50_f369_11eb_a145_244bfe883d24row1_col3\" class=\"data row1 col3\" >0.00</td>\n",
       "                        <td id=\"T_c707fa50_f369_11eb_a145_244bfe883d24row1_col4\" class=\"data row1 col4\" >-0.00</td>\n",
       "                        <td id=\"T_c707fa50_f369_11eb_a145_244bfe883d24row1_col5\" class=\"data row1 col5\" >0.00</td>\n",
       "                        <td id=\"T_c707fa50_f369_11eb_a145_244bfe883d24row1_col6\" class=\"data row1 col6\" >0.01</td>\n",
       "                        <td id=\"T_c707fa50_f369_11eb_a145_244bfe883d24row1_col7\" class=\"data row1 col7\" >-0.00</td>\n",
       "                        <td id=\"T_c707fa50_f369_11eb_a145_244bfe883d24row1_col8\" class=\"data row1 col8\" >-0.01</td>\n",
       "            </tr>\n",
       "            <tr>\n",
       "                        <th id=\"T_c707fa50_f369_11eb_a145_244bfe883d24level0_row2\" class=\"row_heading level0 row2\" >exp</th>\n",
       "                        <td id=\"T_c707fa50_f369_11eb_a145_244bfe883d24row2_col0\" class=\"data row2 col0\" >0.01</td>\n",
       "                        <td id=\"T_c707fa50_f369_11eb_a145_244bfe883d24row2_col1\" class=\"data row2 col1\" >-0.01</td>\n",
       "                        <td id=\"T_c707fa50_f369_11eb_a145_244bfe883d24row2_col2\" class=\"data row2 col2\" >1.00</td>\n",
       "                        <td id=\"T_c707fa50_f369_11eb_a145_244bfe883d24row2_col3\" class=\"data row2 col3\" >0.01</td>\n",
       "                        <td id=\"T_c707fa50_f369_11eb_a145_244bfe883d24row2_col4\" class=\"data row2 col4\" >0.00</td>\n",
       "                        <td id=\"T_c707fa50_f369_11eb_a145_244bfe883d24row2_col5\" class=\"data row2 col5\" >-0.00</td>\n",
       "                        <td id=\"T_c707fa50_f369_11eb_a145_244bfe883d24row2_col6\" class=\"data row2 col6\" >-0.00</td>\n",
       "                        <td id=\"T_c707fa50_f369_11eb_a145_244bfe883d24row2_col7\" class=\"data row2 col7\" >-0.01</td>\n",
       "                        <td id=\"T_c707fa50_f369_11eb_a145_244bfe883d24row2_col8\" class=\"data row2 col8\" >-0.00</td>\n",
       "            </tr>\n",
       "            <tr>\n",
       "                        <th id=\"T_c707fa50_f369_11eb_a145_244bfe883d24level0_row3\" class=\"row_heading level0 row3\" >salaire</th>\n",
       "                        <td id=\"T_c707fa50_f369_11eb_a145_244bfe883d24row3_col0\" class=\"data row3 col0\" >0.02</td>\n",
       "                        <td id=\"T_c707fa50_f369_11eb_a145_244bfe883d24row3_col1\" class=\"data row3 col1\" >0.00</td>\n",
       "                        <td id=\"T_c707fa50_f369_11eb_a145_244bfe883d24row3_col2\" class=\"data row3 col2\" >0.01</td>\n",
       "                        <td id=\"T_c707fa50_f369_11eb_a145_244bfe883d24row3_col3\" class=\"data row3 col3\" >1.00</td>\n",
       "                        <td id=\"T_c707fa50_f369_11eb_a145_244bfe883d24row3_col4\" class=\"data row3 col4\" >0.13</td>\n",
       "                        <td id=\"T_c707fa50_f369_11eb_a145_244bfe883d24row3_col5\" class=\"data row3 col5\" >-0.15</td>\n",
       "                        <td id=\"T_c707fa50_f369_11eb_a145_244bfe883d24row3_col6\" class=\"data row3 col6\" >-0.13</td>\n",
       "                        <td id=\"T_c707fa50_f369_11eb_a145_244bfe883d24row3_col7\" class=\"data row3 col7\" >-0.45</td>\n",
       "                        <td id=\"T_c707fa50_f369_11eb_a145_244bfe883d24row3_col8\" class=\"data row3 col8\" >0.18</td>\n",
       "            </tr>\n",
       "            <tr>\n",
       "                        <th id=\"T_c707fa50_f369_11eb_a145_244bfe883d24level0_row4\" class=\"row_heading level0 row4\" >sexe</th>\n",
       "                        <td id=\"T_c707fa50_f369_11eb_a145_244bfe883d24row4_col0\" class=\"data row4 col0\" >-0.10</td>\n",
       "                        <td id=\"T_c707fa50_f369_11eb_a145_244bfe883d24row4_col1\" class=\"data row4 col1\" >-0.00</td>\n",
       "                        <td id=\"T_c707fa50_f369_11eb_a145_244bfe883d24row4_col2\" class=\"data row4 col2\" >0.00</td>\n",
       "                        <td id=\"T_c707fa50_f369_11eb_a145_244bfe883d24row4_col3\" class=\"data row4 col3\" >0.13</td>\n",
       "                        <td id=\"T_c707fa50_f369_11eb_a145_244bfe883d24row4_col4\" class=\"data row4 col4\" >1.00</td>\n",
       "                        <td id=\"T_c707fa50_f369_11eb_a145_244bfe883d24row4_col5\" class=\"data row4 col5\" >-0.01</td>\n",
       "                        <td id=\"T_c707fa50_f369_11eb_a145_244bfe883d24row4_col6\" class=\"data row4 col6\" >0.37</td>\n",
       "                        <td id=\"T_c707fa50_f369_11eb_a145_244bfe883d24row4_col7\" class=\"data row4 col7\" >-0.27</td>\n",
       "                        <td id=\"T_c707fa50_f369_11eb_a145_244bfe883d24row4_col8\" class=\"data row4 col8\" >0.07</td>\n",
       "            </tr>\n",
       "            <tr>\n",
       "                        <th id=\"T_c707fa50_f369_11eb_a145_244bfe883d24level0_row5\" class=\"row_heading level0 row5\" >diplome</th>\n",
       "                        <td id=\"T_c707fa50_f369_11eb_a145_244bfe883d24row5_col0\" class=\"data row5 col0\" >-0.07</td>\n",
       "                        <td id=\"T_c707fa50_f369_11eb_a145_244bfe883d24row5_col1\" class=\"data row5 col1\" >0.00</td>\n",
       "                        <td id=\"T_c707fa50_f369_11eb_a145_244bfe883d24row5_col2\" class=\"data row5 col2\" >-0.00</td>\n",
       "                        <td id=\"T_c707fa50_f369_11eb_a145_244bfe883d24row5_col3\" class=\"data row5 col3\" >-0.15</td>\n",
       "                        <td id=\"T_c707fa50_f369_11eb_a145_244bfe883d24row5_col4\" class=\"data row5 col4\" >-0.01</td>\n",
       "                        <td id=\"T_c707fa50_f369_11eb_a145_244bfe883d24row5_col5\" class=\"data row5 col5\" >1.00</td>\n",
       "                        <td id=\"T_c707fa50_f369_11eb_a145_244bfe883d24row5_col6\" class=\"data row5 col6\" >-0.04</td>\n",
       "                        <td id=\"T_c707fa50_f369_11eb_a145_244bfe883d24row5_col7\" class=\"data row5 col7\" >0.21</td>\n",
       "                        <td id=\"T_c707fa50_f369_11eb_a145_244bfe883d24row5_col8\" class=\"data row5 col8\" >0.16</td>\n",
       "            </tr>\n",
       "            <tr>\n",
       "                        <th id=\"T_c707fa50_f369_11eb_a145_244bfe883d24level0_row6\" class=\"row_heading level0 row6\" >specialite</th>\n",
       "                        <td id=\"T_c707fa50_f369_11eb_a145_244bfe883d24row6_col0\" class=\"data row6 col0\" >-0.04</td>\n",
       "                        <td id=\"T_c707fa50_f369_11eb_a145_244bfe883d24row6_col1\" class=\"data row6 col1\" >0.01</td>\n",
       "                        <td id=\"T_c707fa50_f369_11eb_a145_244bfe883d24row6_col2\" class=\"data row6 col2\" >-0.00</td>\n",
       "                        <td id=\"T_c707fa50_f369_11eb_a145_244bfe883d24row6_col3\" class=\"data row6 col3\" >-0.13</td>\n",
       "                        <td id=\"T_c707fa50_f369_11eb_a145_244bfe883d24row6_col4\" class=\"data row6 col4\" >0.37</td>\n",
       "                        <td id=\"T_c707fa50_f369_11eb_a145_244bfe883d24row6_col5\" class=\"data row6 col5\" >-0.04</td>\n",
       "                        <td id=\"T_c707fa50_f369_11eb_a145_244bfe883d24row6_col6\" class=\"data row6 col6\" >1.00</td>\n",
       "                        <td id=\"T_c707fa50_f369_11eb_a145_244bfe883d24row6_col7\" class=\"data row6 col7\" >-0.17</td>\n",
       "                        <td id=\"T_c707fa50_f369_11eb_a145_244bfe883d24row6_col8\" class=\"data row6 col8\" >-0.38</td>\n",
       "            </tr>\n",
       "            <tr>\n",
       "                        <th id=\"T_c707fa50_f369_11eb_a145_244bfe883d24level0_row7\" class=\"row_heading level0 row7\" >note</th>\n",
       "                        <td id=\"T_c707fa50_f369_11eb_a145_244bfe883d24row7_col0\" class=\"data row7 col0\" >0.01</td>\n",
       "                        <td id=\"T_c707fa50_f369_11eb_a145_244bfe883d24row7_col1\" class=\"data row7 col1\" >-0.00</td>\n",
       "                        <td id=\"T_c707fa50_f369_11eb_a145_244bfe883d24row7_col2\" class=\"data row7 col2\" >-0.01</td>\n",
       "                        <td id=\"T_c707fa50_f369_11eb_a145_244bfe883d24row7_col3\" class=\"data row7 col3\" >-0.45</td>\n",
       "                        <td id=\"T_c707fa50_f369_11eb_a145_244bfe883d24row7_col4\" class=\"data row7 col4\" >-0.27</td>\n",
       "                        <td id=\"T_c707fa50_f369_11eb_a145_244bfe883d24row7_col5\" class=\"data row7 col5\" >0.21</td>\n",
       "                        <td id=\"T_c707fa50_f369_11eb_a145_244bfe883d24row7_col6\" class=\"data row7 col6\" >-0.17</td>\n",
       "                        <td id=\"T_c707fa50_f369_11eb_a145_244bfe883d24row7_col7\" class=\"data row7 col7\" >1.00</td>\n",
       "                        <td id=\"T_c707fa50_f369_11eb_a145_244bfe883d24row7_col8\" class=\"data row7 col8\" >0.34</td>\n",
       "            </tr>\n",
       "            <tr>\n",
       "                        <th id=\"T_c707fa50_f369_11eb_a145_244bfe883d24level0_row8\" class=\"row_heading level0 row8\" >dispo</th>\n",
       "                        <td id=\"T_c707fa50_f369_11eb_a145_244bfe883d24row8_col0\" class=\"data row8 col0\" >0.03</td>\n",
       "                        <td id=\"T_c707fa50_f369_11eb_a145_244bfe883d24row8_col1\" class=\"data row8 col1\" >-0.01</td>\n",
       "                        <td id=\"T_c707fa50_f369_11eb_a145_244bfe883d24row8_col2\" class=\"data row8 col2\" >-0.00</td>\n",
       "                        <td id=\"T_c707fa50_f369_11eb_a145_244bfe883d24row8_col3\" class=\"data row8 col3\" >0.18</td>\n",
       "                        <td id=\"T_c707fa50_f369_11eb_a145_244bfe883d24row8_col4\" class=\"data row8 col4\" >0.07</td>\n",
       "                        <td id=\"T_c707fa50_f369_11eb_a145_244bfe883d24row8_col5\" class=\"data row8 col5\" >0.16</td>\n",
       "                        <td id=\"T_c707fa50_f369_11eb_a145_244bfe883d24row8_col6\" class=\"data row8 col6\" >-0.38</td>\n",
       "                        <td id=\"T_c707fa50_f369_11eb_a145_244bfe883d24row8_col7\" class=\"data row8 col7\" >0.34</td>\n",
       "                        <td id=\"T_c707fa50_f369_11eb_a145_244bfe883d24row8_col8\" class=\"data row8 col8\" >1.00</td>\n",
       "            </tr>\n",
       "    </tbody></table>"
      ],
      "text/plain": [
       "<pandas.io.formats.style.Styler at 0x1d2c31d99a0>"
      ]
     },
     "execution_count": 303,
     "metadata": {},
     "output_type": "execute_result"
    }
   ],
   "source": [
    "corr = temp.drop(['embauche'],axis=1).corr()\n",
    "corr.style.background_gradient(cmap='coolwarm').set_precision(2)"
   ]
  },
  {
   "cell_type": "markdown",
   "metadata": {},
   "source": [
    "<b> on remarque qu'il n'y a pas de corelation apparente entre les différentes variables "
   ]
  },
  {
   "cell_type": "code",
   "execution_count": 304,
   "metadata": {
    "ExecuteTime": {
     "end_time": "2021-08-02T08:15:33.902038Z",
     "start_time": "2021-08-02T08:15:33.873117Z"
    }
   },
   "outputs": [
    {
     "name": "stdout",
     "output_type": "stream",
     "text": [
      "['note' 'cheveux' 'exp' 'dispo' 'age' 'specialite' 'sexe' 'diplome'\n",
      " 'salaire']\n"
     ]
    }
   ],
   "source": [
    "depends,_ = chi2(temp.drop(['embauche','date'],axis=1), temp.embauche)\n",
    "\n",
    "print(np.array(temp.drop(['embauche','date'],axis=1).columns)[depends.argsort()])"
   ]
  },
  {
   "cell_type": "markdown",
   "metadata": {},
   "source": [
    "<b>la décision d'embauche dépends principalement de ces variables par ordre décroissant"
   ]
  },
  {
   "cell_type": "markdown",
   "metadata": {},
   "source": [
    "### Q1 La spécialité et le sexe"
   ]
  },
  {
   "cell_type": "code",
   "execution_count": 280,
   "metadata": {
    "ExecuteTime": {
     "end_time": "2021-08-02T00:52:37.363217Z",
     "start_time": "2021-08-02T00:52:37.343269Z"
    }
   },
   "outputs": [
    {
     "data": {
      "text/html": [
       "<style  type=\"text/css\" >\n",
       "#T_ee637b01_f32b_11eb_bb90_244bfe883d24row0_col0,#T_ee637b01_f32b_11eb_bb90_244bfe883d24row1_col1{\n",
       "            background-color:  #b40426;\n",
       "            color:  #f1f1f1;\n",
       "        }#T_ee637b01_f32b_11eb_bb90_244bfe883d24row0_col1,#T_ee637b01_f32b_11eb_bb90_244bfe883d24row1_col0{\n",
       "            background-color:  #3b4cc0;\n",
       "            color:  #f1f1f1;\n",
       "        }</style><table id=\"T_ee637b01_f32b_11eb_bb90_244bfe883d24\" ><thead>    <tr>        <th class=\"blank level0\" ></th>        <th class=\"col_heading level0 col0\" >specialite</th>        <th class=\"col_heading level0 col1\" >sexe</th>    </tr></thead><tbody>\n",
       "                <tr>\n",
       "                        <th id=\"T_ee637b01_f32b_11eb_bb90_244bfe883d24level0_row0\" class=\"row_heading level0 row0\" >specialite</th>\n",
       "                        <td id=\"T_ee637b01_f32b_11eb_bb90_244bfe883d24row0_col0\" class=\"data row0 col0\" >1.00</td>\n",
       "                        <td id=\"T_ee637b01_f32b_11eb_bb90_244bfe883d24row0_col1\" class=\"data row0 col1\" >0.37</td>\n",
       "            </tr>\n",
       "            <tr>\n",
       "                        <th id=\"T_ee637b01_f32b_11eb_bb90_244bfe883d24level0_row1\" class=\"row_heading level0 row1\" >sexe</th>\n",
       "                        <td id=\"T_ee637b01_f32b_11eb_bb90_244bfe883d24row1_col0\" class=\"data row1 col0\" >0.37</td>\n",
       "                        <td id=\"T_ee637b01_f32b_11eb_bb90_244bfe883d24row1_col1\" class=\"data row1 col1\" >1.00</td>\n",
       "            </tr>\n",
       "    </tbody></table>"
      ],
      "text/plain": [
       "<pandas.io.formats.style.Styler at 0x1d2c3117e20>"
      ]
     },
     "execution_count": 280,
     "metadata": {},
     "output_type": "execute_result"
    }
   ],
   "source": [
    "corr = temp[[\"specialite\",\"sexe\"]].corr()\n",
    "corr.style.background_gradient(cmap='coolwarm').set_precision(2)"
   ]
  },
  {
   "cell_type": "markdown",
   "metadata": {},
   "source": [
    "<b>On obsérve une légére corrélation entre ces deux variables"
   ]
  },
  {
   "cell_type": "markdown",
   "metadata": {},
   "source": [
    "### Q2 cheveux et le salaire"
   ]
  },
  {
   "cell_type": "code",
   "execution_count": 284,
   "metadata": {
    "ExecuteTime": {
     "end_time": "2021-08-02T00:57:10.810334Z",
     "start_time": "2021-08-02T00:57:10.785400Z"
    }
   },
   "outputs": [
    {
     "data": {
      "text/html": [
       "<style  type=\"text/css\" >\n",
       "#T_91600c0b_f32c_11eb_8445_244bfe883d24row0_col0,#T_91600c0b_f32c_11eb_8445_244bfe883d24row1_col1{\n",
       "            background-color:  #b40426;\n",
       "            color:  #f1f1f1;\n",
       "        }#T_91600c0b_f32c_11eb_8445_244bfe883d24row0_col1,#T_91600c0b_f32c_11eb_8445_244bfe883d24row1_col0{\n",
       "            background-color:  #3b4cc0;\n",
       "            color:  #f1f1f1;\n",
       "        }</style><table id=\"T_91600c0b_f32c_11eb_8445_244bfe883d24\" ><thead>    <tr>        <th class=\"blank level0\" ></th>        <th class=\"col_heading level0 col0\" >cheveux</th>        <th class=\"col_heading level0 col1\" >salaire</th>    </tr></thead><tbody>\n",
       "                <tr>\n",
       "                        <th id=\"T_91600c0b_f32c_11eb_8445_244bfe883d24level0_row0\" class=\"row_heading level0 row0\" >cheveux</th>\n",
       "                        <td id=\"T_91600c0b_f32c_11eb_8445_244bfe883d24row0_col0\" class=\"data row0 col0\" >1.00</td>\n",
       "                        <td id=\"T_91600c0b_f32c_11eb_8445_244bfe883d24row0_col1\" class=\"data row0 col1\" >0.02</td>\n",
       "            </tr>\n",
       "            <tr>\n",
       "                        <th id=\"T_91600c0b_f32c_11eb_8445_244bfe883d24level0_row1\" class=\"row_heading level0 row1\" >salaire</th>\n",
       "                        <td id=\"T_91600c0b_f32c_11eb_8445_244bfe883d24row1_col0\" class=\"data row1 col0\" >0.02</td>\n",
       "                        <td id=\"T_91600c0b_f32c_11eb_8445_244bfe883d24row1_col1\" class=\"data row1 col1\" >1.00</td>\n",
       "            </tr>\n",
       "    </tbody></table>"
      ],
      "text/plain": [
       "<pandas.io.formats.style.Styler at 0x1d2c318ebb0>"
      ]
     },
     "execution_count": 284,
     "metadata": {},
     "output_type": "execute_result"
    }
   ],
   "source": [
    "corr = temp[[\"cheveux\",\"salaire\"]].corr()\n",
    "corr.style.background_gradient(cmap='coolwarm').set_precision(2)"
   ]
  },
  {
   "cell_type": "markdown",
   "metadata": {},
   "source": [
    "### Q3 expérience et la note"
   ]
  },
  {
   "cell_type": "code",
   "execution_count": 285,
   "metadata": {
    "ExecuteTime": {
     "end_time": "2021-08-02T00:57:34.193939Z",
     "start_time": "2021-08-02T00:57:34.176987Z"
    }
   },
   "outputs": [
    {
     "data": {
      "text/html": [
       "<style  type=\"text/css\" >\n",
       "#T_9f503fb3_f32c_11eb_bc9b_244bfe883d24row0_col0,#T_9f503fb3_f32c_11eb_bc9b_244bfe883d24row1_col1{\n",
       "            background-color:  #b40426;\n",
       "            color:  #f1f1f1;\n",
       "        }#T_9f503fb3_f32c_11eb_bc9b_244bfe883d24row0_col1,#T_9f503fb3_f32c_11eb_bc9b_244bfe883d24row1_col0{\n",
       "            background-color:  #3b4cc0;\n",
       "            color:  #f1f1f1;\n",
       "        }</style><table id=\"T_9f503fb3_f32c_11eb_bc9b_244bfe883d24\" ><thead>    <tr>        <th class=\"blank level0\" ></th>        <th class=\"col_heading level0 col0\" >exp</th>        <th class=\"col_heading level0 col1\" >note</th>    </tr></thead><tbody>\n",
       "                <tr>\n",
       "                        <th id=\"T_9f503fb3_f32c_11eb_bc9b_244bfe883d24level0_row0\" class=\"row_heading level0 row0\" >exp</th>\n",
       "                        <td id=\"T_9f503fb3_f32c_11eb_bc9b_244bfe883d24row0_col0\" class=\"data row0 col0\" >1.00</td>\n",
       "                        <td id=\"T_9f503fb3_f32c_11eb_bc9b_244bfe883d24row0_col1\" class=\"data row0 col1\" >-0.01</td>\n",
       "            </tr>\n",
       "            <tr>\n",
       "                        <th id=\"T_9f503fb3_f32c_11eb_bc9b_244bfe883d24level0_row1\" class=\"row_heading level0 row1\" >note</th>\n",
       "                        <td id=\"T_9f503fb3_f32c_11eb_bc9b_244bfe883d24row1_col0\" class=\"data row1 col0\" >-0.01</td>\n",
       "                        <td id=\"T_9f503fb3_f32c_11eb_bc9b_244bfe883d24row1_col1\" class=\"data row1 col1\" >1.00</td>\n",
       "            </tr>\n",
       "    </tbody></table>"
      ],
      "text/plain": [
       "<pandas.io.formats.style.Styler at 0x1d2c30ef5b0>"
      ]
     },
     "execution_count": 285,
     "metadata": {},
     "output_type": "execute_result"
    }
   ],
   "source": [
    "corr = temp[[\"exp\",\"note\"]].corr()\n",
    "corr.style.background_gradient(cmap='coolwarm').set_precision(2)"
   ]
  },
  {
   "cell_type": "markdown",
   "metadata": {},
   "source": [
    "## Processing "
   ]
  },
  {
   "cell_type": "code",
   "execution_count": 315,
   "metadata": {
    "ExecuteTime": {
     "end_time": "2021-08-02T08:19:12.135173Z",
     "start_time": "2021-08-02T08:19:12.112237Z"
    }
   },
   "outputs": [],
   "source": [
    "df['age'] = pd.cut(x=df['age'], bins=[17, 30, 45, 65, 75],labels=[1,2,3,4])\n",
    "df['exp'] = pd.cut(x=df['exp'], bins=[-1, 5, 10, 23],labels=[1,2,3])\n",
    "df['salaire'] = pd.cut(x=df['salaire'], bins=range(14000,64000,10000),labels=[1,2,3,4])"
   ]
  },
  {
   "cell_type": "code",
   "execution_count": 305,
   "metadata": {
    "ExecuteTime": {
     "end_time": "2021-08-02T08:16:00.412588Z",
     "start_time": "2021-08-02T08:16:00.368675Z"
    }
   },
   "outputs": [],
   "source": [
    "labelencoder = LabelEncoder()\n",
    "df.sexe = labelencoder.fit_transform(df.sexe)\n",
    "df.dispo = labelencoder.fit_transform(df.dispo)\n",
    "df.cheveux = labelencoder.fit_transform(df.cheveux)\n",
    "df.diplome = labelencoder.fit_transform(df.diplome)\n",
    "df.specialite = labelencoder.fit_transform(df.specialite)"
   ]
  },
  {
   "cell_type": "code",
   "execution_count": 306,
   "metadata": {
    "ExecuteTime": {
     "end_time": "2021-08-02T08:16:05.368922Z",
     "start_time": "2021-08-02T08:16:05.359947Z"
    }
   },
   "outputs": [],
   "source": [
    "df.date = df.date.dt.month"
   ]
  },
  {
   "cell_type": "markdown",
   "metadata": {},
   "source": [
    "## Models"
   ]
  },
  {
   "cell_type": "code",
   "execution_count": 316,
   "metadata": {
    "ExecuteTime": {
     "end_time": "2021-08-02T08:19:14.975312Z",
     "start_time": "2021-08-02T08:19:14.943398Z"
    }
   },
   "outputs": [],
   "source": [
    "x_train, x_test, y_train, y_test = train_test_split(df.drop(['embauche'],axis=1),df[\"embauche\"],stratify=df[\"embauche\"],random_state = 0)"
   ]
  },
  {
   "cell_type": "code",
   "execution_count": 313,
   "metadata": {
    "ExecuteTime": {
     "end_time": "2021-08-02T08:17:40.363252Z",
     "start_time": "2021-08-02T08:17:40.352284Z"
    }
   },
   "outputs": [],
   "source": [
    "def evaluation(model):\n",
    "    \n",
    "    model.fit(x_train, y_train)\n",
    "    ypred = model.predict(x_test)\n",
    "    \n",
    "    print(confusion_matrix(y_test, ypred))\n",
    "    print(classification_report(y_test, ypred))\n",
    "    \n",
    "    N, train_score, val_score = learning_curve(model, x_train, y_train,\n",
    "                                              cv=4, scoring='f1',\n",
    "                                               train_sizes=np.linspace(0.1, 1, 10))\n",
    "    \n",
    "    \n",
    "    plt.figure(figsize=(12, 8))\n",
    "    plt.plot(N, train_score.mean(axis=1), label='train score')\n",
    "    plt.plot(N, val_score.mean(axis=1), label='validation score')\n",
    "    plt.legend()"
   ]
  },
  {
   "cell_type": "code",
   "execution_count": 372,
   "metadata": {
    "ExecuteTime": {
     "end_time": "2021-08-02T09:55:21.653493Z",
     "start_time": "2021-08-02T09:54:10.107475Z"
    }
   },
   "outputs": [
    {
     "name": "stdout",
     "output_type": "stream",
     "text": [
      "[[3760  451]\n",
      " [ 163  382]]\n",
      "              precision    recall  f1-score   support\n",
      "\n",
      "           0       0.96      0.89      0.92      4211\n",
      "           1       0.46      0.70      0.55       545\n",
      "\n",
      "    accuracy                           0.87      4756\n",
      "   macro avg       0.71      0.80      0.74      4756\n",
      "weighted avg       0.90      0.87      0.88      4756\n",
      "\n"
     ]
    },
    {
     "data": {
      "image/png": "[encoded data removed]",
      "text/plain": [
       "<Figure size 864x576 with 1 Axes>"
      ]
     },
     "metadata": {
      "needs_background": "light"
     },
     "output_type": "display_data"
    }
   ],
   "source": [
    "RFC = RandomForestClassifier(n_estimators=200, \n",
    "                            max_depth=20,\n",
    "                            max_features='auto', \n",
    "                            min_samples_leaf=10,\n",
    "                            min_samples_split=12,\n",
    "                             class_weight='balanced',\n",
    "                             random_state=0)\n",
    "evaluation(RFC)"
   ]
  },
  {
   "cell_type": "markdown",
   "metadata": {},
   "source": [
    "<b> variables les plus signifiantes pour le modéle"
   ]
  },
  {
   "cell_type": "code",
   "execution_count": 292,
   "metadata": {
    "ExecuteTime": {
     "end_time": "2021-08-02T01:14:43.417799Z",
     "start_time": "2021-08-02T01:14:41.760194Z"
    }
   },
   "outputs": [
    {
     "data": {
      "text/plain": [
       "array(['date', 'cheveux', 'note'], dtype=object)"
      ]
     },
     "execution_count": 292,
     "metadata": {},
     "output_type": "execute_result"
    }
   ],
   "source": [
    "selector = SelectFromModel(RFC, threshold='mean')\n",
    "selector.fit(x_train, y_train)\n",
    "\n",
    "np.array(x_train.columns)[selector.get_support()]"
   ]
  }
 ],
 "metadata": {
  "kernelspec": {
   "display_name": "Python 3",
   "language": "python",
   "name": "python3"
  },
  "language_info": {
   "codemirror_mode": {
    "name": "ipython",
    "version": 3
   },
   "file_extension": ".py",
   "mimetype": "text/x-python",
   "name": "python",
   "nbconvert_exporter": "python",
   "pygments_lexer": "ipython3",
   "version": "3.8.5"
  },
  "toc": {
   "base_numbering": 1,
   "nav_menu": {},
   "number_sections": true,
   "sideBar": true,
   "skip_h1_title": false,
   "title_cell": "Table of Contents",
   "title_sidebar": "Contents",
   "toc_cell": false,
   "toc_position": {},
   "toc_section_display": true,
   "toc_window_display": false
  },
  "varInspector": {
   "cols": {
    "lenName": 16,
    "lenType": 16,
    "lenVar": 40
   },
   "kernels_config": {
    "python": {
     "delete_cmd_postfix": "",
     "delete_cmd_prefix": "del ",
     "library": "var_list.py",
     "varRefreshCmd": "print(var_dic_list())"
    },
    "r": {
     "delete_cmd_postfix": ") ",
     "delete_cmd_prefix": "rm(",
     "library": "var_list.r",
     "varRefreshCmd": "cat(var_dic_list()) "
    }
   },
   "types_to_exclude": [
    "module",
    "function",
    "builtin_function_or_method",
    "instance",
    "_Feature"
   ],
   "window_display": false
  }
 },
 "nbformat": 4,
 "nbformat_minor": 4
}
